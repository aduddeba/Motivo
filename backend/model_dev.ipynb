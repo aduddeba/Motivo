{
 "cells": [
  {
   "cell_type": "code",
   "execution_count": 2,
   "id": "d3d5b410",
   "metadata": {},
   "outputs": [],
   "source": [
    "# from fastapi import FastAPI\n",
    "# from pydantic import BaseModel\n",
    "import pandas as pd\n",
    "# import joblib\n",
    "# from sklearn.neighbors import NearestNeighbors"
   ]
  },
  {
   "cell_type": "code",
   "execution_count": 3,
   "id": "d8dc1ea7",
   "metadata": {},
   "outputs": [
    {
     "data": {
      "text/html": [
       "<div>\n",
       "<style scoped>\n",
       "    .dataframe tbody tr th:only-of-type {\n",
       "        vertical-align: middle;\n",
       "    }\n",
       "\n",
       "    .dataframe tbody tr th {\n",
       "        vertical-align: top;\n",
       "    }\n",
       "\n",
       "    .dataframe thead th {\n",
       "        text-align: right;\n",
       "    }\n",
       "</style>\n",
       "<table border=\"1\" class=\"dataframe\">\n",
       "  <thead>\n",
       "    <tr style=\"text-align: right;\">\n",
       "      <th></th>\n",
       "      <th>name</th>\n",
       "      <th>description</th>\n",
       "      <th>make</th>\n",
       "      <th>model</th>\n",
       "      <th>type</th>\n",
       "      <th>year</th>\n",
       "      <th>price</th>\n",
       "      <th>engine</th>\n",
       "      <th>cylinders</th>\n",
       "      <th>fuel</th>\n",
       "      <th>mileage</th>\n",
       "      <th>transmission</th>\n",
       "      <th>trim</th>\n",
       "      <th>body</th>\n",
       "      <th>doors</th>\n",
       "      <th>exterior_color</th>\n",
       "      <th>interior_color</th>\n",
       "      <th>drivetrain</th>\n",
       "    </tr>\n",
       "  </thead>\n",
       "  <tbody>\n",
       "    <tr>\n",
       "      <th>0</th>\n",
       "      <td>2024 Jeep Wagoneer Series II</td>\n",
       "      <td>\\n      \\n        Heated Leather Seats, Nav Sy...</td>\n",
       "      <td>Jeep</td>\n",
       "      <td>Wagoneer</td>\n",
       "      <td>New</td>\n",
       "      <td>2024</td>\n",
       "      <td>74600.0</td>\n",
       "      <td>24V GDI DOHC Twin Turbo</td>\n",
       "      <td>6.0</td>\n",
       "      <td>Gasoline</td>\n",
       "      <td>10.0</td>\n",
       "      <td>8-Speed Automatic</td>\n",
       "      <td>Series II</td>\n",
       "      <td>SUV</td>\n",
       "      <td>4.0</td>\n",
       "      <td>White</td>\n",
       "      <td>Global Black</td>\n",
       "      <td>Four-wheel Drive</td>\n",
       "    </tr>\n",
       "    <tr>\n",
       "      <th>1</th>\n",
       "      <td>2024 Jeep Grand Cherokee Laredo</td>\n",
       "      <td>Al West is committed to offering every custome...</td>\n",
       "      <td>Jeep</td>\n",
       "      <td>Grand Cherokee</td>\n",
       "      <td>New</td>\n",
       "      <td>2024</td>\n",
       "      <td>50170.0</td>\n",
       "      <td>OHV</td>\n",
       "      <td>6.0</td>\n",
       "      <td>Gasoline</td>\n",
       "      <td>1.0</td>\n",
       "      <td>8-Speed Automatic</td>\n",
       "      <td>Laredo</td>\n",
       "      <td>SUV</td>\n",
       "      <td>4.0</td>\n",
       "      <td>Metallic</td>\n",
       "      <td>Global Black</td>\n",
       "      <td>Four-wheel Drive</td>\n",
       "    </tr>\n",
       "    <tr>\n",
       "      <th>2</th>\n",
       "      <td>2024 GMC Yukon XL Denali</td>\n",
       "      <td>NaN</td>\n",
       "      <td>GMC</td>\n",
       "      <td>Yukon XL</td>\n",
       "      <td>New</td>\n",
       "      <td>2024</td>\n",
       "      <td>96410.0</td>\n",
       "      <td>6.2L V-8 gasoline direct injection, variable v...</td>\n",
       "      <td>8.0</td>\n",
       "      <td>Gasoline</td>\n",
       "      <td>0.0</td>\n",
       "      <td>Automatic</td>\n",
       "      <td>Denali</td>\n",
       "      <td>SUV</td>\n",
       "      <td>4.0</td>\n",
       "      <td>Summit White</td>\n",
       "      <td>Teak/Light Shale</td>\n",
       "      <td>Four-wheel Drive</td>\n",
       "    </tr>\n",
       "    <tr>\n",
       "      <th>3</th>\n",
       "      <td>2023 Dodge Durango Pursuit</td>\n",
       "      <td>White Knuckle Clearcoat 2023 Dodge Durango Pur...</td>\n",
       "      <td>Dodge</td>\n",
       "      <td>Durango</td>\n",
       "      <td>New</td>\n",
       "      <td>2023</td>\n",
       "      <td>46835.0</td>\n",
       "      <td>16V MPFI OHV</td>\n",
       "      <td>8.0</td>\n",
       "      <td>Gasoline</td>\n",
       "      <td>32.0</td>\n",
       "      <td>8-Speed Automatic</td>\n",
       "      <td>Pursuit</td>\n",
       "      <td>SUV</td>\n",
       "      <td>4.0</td>\n",
       "      <td>White Knuckle Clearcoat</td>\n",
       "      <td>Black</td>\n",
       "      <td>All-wheel Drive</td>\n",
       "    </tr>\n",
       "    <tr>\n",
       "      <th>4</th>\n",
       "      <td>2024 RAM 3500 Laramie</td>\n",
       "      <td>\\n      \\n        2024 Ram 3500 Laramie Billet...</td>\n",
       "      <td>RAM</td>\n",
       "      <td>3500</td>\n",
       "      <td>New</td>\n",
       "      <td>2024</td>\n",
       "      <td>81663.0</td>\n",
       "      <td>24V DDI OHV Turbo Diesel</td>\n",
       "      <td>6.0</td>\n",
       "      <td>Diesel</td>\n",
       "      <td>10.0</td>\n",
       "      <td>6-Speed Automatic</td>\n",
       "      <td>Laramie</td>\n",
       "      <td>Pickup Truck</td>\n",
       "      <td>4.0</td>\n",
       "      <td>Silver</td>\n",
       "      <td>Black</td>\n",
       "      <td>Four-wheel Drive</td>\n",
       "    </tr>\n",
       "    <tr>\n",
       "      <th>...</th>\n",
       "      <td>...</td>\n",
       "      <td>...</td>\n",
       "      <td>...</td>\n",
       "      <td>...</td>\n",
       "      <td>...</td>\n",
       "      <td>...</td>\n",
       "      <td>...</td>\n",
       "      <td>...</td>\n",
       "      <td>...</td>\n",
       "      <td>...</td>\n",
       "      <td>...</td>\n",
       "      <td>...</td>\n",
       "      <td>...</td>\n",
       "      <td>...</td>\n",
       "      <td>...</td>\n",
       "      <td>...</td>\n",
       "      <td>...</td>\n",
       "      <td>...</td>\n",
       "    </tr>\n",
       "    <tr>\n",
       "      <th>997</th>\n",
       "      <td>2024 Mercedes-Benz Sprinter 2500 Standard Roof</td>\n",
       "      <td>2024 Mercedes-Benz Sprinter 2500 Cargo 144 WB ...</td>\n",
       "      <td>Mercedes-Benz</td>\n",
       "      <td>Sprinter 2500</td>\n",
       "      <td>New</td>\n",
       "      <td>2024</td>\n",
       "      <td>59037.0</td>\n",
       "      <td>16V DDI DOHC Turbo Diesel</td>\n",
       "      <td>4.0</td>\n",
       "      <td>Diesel</td>\n",
       "      <td>10.0</td>\n",
       "      <td>9-Speed Automatic</td>\n",
       "      <td>Standard Roof</td>\n",
       "      <td>Cargo Van</td>\n",
       "      <td>3.0</td>\n",
       "      <td>Arctic White</td>\n",
       "      <td>Black</td>\n",
       "      <td>Rear-wheel Drive</td>\n",
       "    </tr>\n",
       "    <tr>\n",
       "      <th>998</th>\n",
       "      <td>2024 Dodge Hornet Hornet R/T Plus Eawd</td>\n",
       "      <td>Dealer Comments +++ Price Ends 5/31/2024 +++ A...</td>\n",
       "      <td>Dodge</td>\n",
       "      <td>Hornet</td>\n",
       "      <td>New</td>\n",
       "      <td>2024</td>\n",
       "      <td>49720.0</td>\n",
       "      <td>4 gasoline direct injection, DOHC, Multiair va...</td>\n",
       "      <td>4.0</td>\n",
       "      <td>Gasoline</td>\n",
       "      <td>0.0</td>\n",
       "      <td>6-Spd Aisin F21-250 PHEV Auto Trans</td>\n",
       "      <td>Hornet R/T Plus Eawd</td>\n",
       "      <td>SUV</td>\n",
       "      <td>4.0</td>\n",
       "      <td>Acapulco Gold</td>\n",
       "      <td>Black</td>\n",
       "      <td>All-wheel Drive</td>\n",
       "    </tr>\n",
       "    <tr>\n",
       "      <th>999</th>\n",
       "      <td>2024 Jeep Wagoneer Base</td>\n",
       "      <td>\\n      \\n        The ALL New Friendship CDJR ...</td>\n",
       "      <td>Jeep</td>\n",
       "      <td>Wagoneer</td>\n",
       "      <td>New</td>\n",
       "      <td>2024</td>\n",
       "      <td>69085.0</td>\n",
       "      <td>24V GDI DOHC Twin Turbo</td>\n",
       "      <td>6.0</td>\n",
       "      <td>Gasoline</td>\n",
       "      <td>20.0</td>\n",
       "      <td>8-Speed Automatic</td>\n",
       "      <td>Base</td>\n",
       "      <td>SUV</td>\n",
       "      <td>4.0</td>\n",
       "      <td>Diamond Black</td>\n",
       "      <td>Black</td>\n",
       "      <td>Four-wheel Drive</td>\n",
       "    </tr>\n",
       "    <tr>\n",
       "      <th>1000</th>\n",
       "      <td>2024 Nissan Murano SV Intelligent AWD</td>\n",
       "      <td>\\n      \\n        CVT with Xtronic, AWD.At Tod...</td>\n",
       "      <td>Nissan</td>\n",
       "      <td>Murano</td>\n",
       "      <td>New</td>\n",
       "      <td>2024</td>\n",
       "      <td>43495.0</td>\n",
       "      <td>6 DOHC, variable valve control, regular unlead...</td>\n",
       "      <td>6.0</td>\n",
       "      <td>Gasoline</td>\n",
       "      <td>6.0</td>\n",
       "      <td>Automatic</td>\n",
       "      <td>SV Intelligent AWD</td>\n",
       "      <td>SUV</td>\n",
       "      <td>4.0</td>\n",
       "      <td>Pearl White Tricoat</td>\n",
       "      <td>Graphite</td>\n",
       "      <td>All-wheel Drive</td>\n",
       "    </tr>\n",
       "    <tr>\n",
       "      <th>1001</th>\n",
       "      <td>2024 Chevrolet Silverado 2500 WT</td>\n",
       "      <td>01u 2024 Chevrolet Silverado 2500HD Work Truck...</td>\n",
       "      <td>Chevrolet</td>\n",
       "      <td>Silverado 2500</td>\n",
       "      <td>New</td>\n",
       "      <td>2024</td>\n",
       "      <td>48995.0</td>\n",
       "      <td>8 gasoline direct injection, variable valve co...</td>\n",
       "      <td>8.0</td>\n",
       "      <td>Gasoline</td>\n",
       "      <td>31.0</td>\n",
       "      <td>Automatic</td>\n",
       "      <td>WT</td>\n",
       "      <td>Pickup Truck</td>\n",
       "      <td>4.0</td>\n",
       "      <td>Wheatland Yellow</td>\n",
       "      <td>Jet Black</td>\n",
       "      <td>Rear-wheel Drive</td>\n",
       "    </tr>\n",
       "  </tbody>\n",
       "</table>\n",
       "<p>1002 rows × 18 columns</p>\n",
       "</div>"
      ],
      "text/plain": [
       "                                                name  \\\n",
       "0                       2024 Jeep Wagoneer Series II   \n",
       "1                    2024 Jeep Grand Cherokee Laredo   \n",
       "2                           2024 GMC Yukon XL Denali   \n",
       "3                         2023 Dodge Durango Pursuit   \n",
       "4                              2024 RAM 3500 Laramie   \n",
       "...                                              ...   \n",
       "997   2024 Mercedes-Benz Sprinter 2500 Standard Roof   \n",
       "998           2024 Dodge Hornet Hornet R/T Plus Eawd   \n",
       "999                          2024 Jeep Wagoneer Base   \n",
       "1000           2024 Nissan Murano SV Intelligent AWD   \n",
       "1001                2024 Chevrolet Silverado 2500 WT   \n",
       "\n",
       "                                            description           make  \\\n",
       "0     \\n      \\n        Heated Leather Seats, Nav Sy...           Jeep   \n",
       "1     Al West is committed to offering every custome...           Jeep   \n",
       "2                                                   NaN            GMC   \n",
       "3     White Knuckle Clearcoat 2023 Dodge Durango Pur...          Dodge   \n",
       "4     \\n      \\n        2024 Ram 3500 Laramie Billet...            RAM   \n",
       "...                                                 ...            ...   \n",
       "997   2024 Mercedes-Benz Sprinter 2500 Cargo 144 WB ...  Mercedes-Benz   \n",
       "998   Dealer Comments +++ Price Ends 5/31/2024 +++ A...          Dodge   \n",
       "999   \\n      \\n        The ALL New Friendship CDJR ...           Jeep   \n",
       "1000  \\n      \\n        CVT with Xtronic, AWD.At Tod...         Nissan   \n",
       "1001  01u 2024 Chevrolet Silverado 2500HD Work Truck...      Chevrolet   \n",
       "\n",
       "               model type  year    price  \\\n",
       "0           Wagoneer  New  2024  74600.0   \n",
       "1     Grand Cherokee  New  2024  50170.0   \n",
       "2           Yukon XL  New  2024  96410.0   \n",
       "3            Durango  New  2023  46835.0   \n",
       "4               3500  New  2024  81663.0   \n",
       "...              ...  ...   ...      ...   \n",
       "997    Sprinter 2500  New  2024  59037.0   \n",
       "998           Hornet  New  2024  49720.0   \n",
       "999         Wagoneer  New  2024  69085.0   \n",
       "1000          Murano  New  2024  43495.0   \n",
       "1001  Silverado 2500  New  2024  48995.0   \n",
       "\n",
       "                                                 engine  cylinders      fuel  \\\n",
       "0                               24V GDI DOHC Twin Turbo        6.0  Gasoline   \n",
       "1                                                   OHV        6.0  Gasoline   \n",
       "2     6.2L V-8 gasoline direct injection, variable v...        8.0  Gasoline   \n",
       "3                                          16V MPFI OHV        8.0  Gasoline   \n",
       "4                              24V DDI OHV Turbo Diesel        6.0    Diesel   \n",
       "...                                                 ...        ...       ...   \n",
       "997                           16V DDI DOHC Turbo Diesel        4.0    Diesel   \n",
       "998   4 gasoline direct injection, DOHC, Multiair va...        4.0  Gasoline   \n",
       "999                             24V GDI DOHC Twin Turbo        6.0  Gasoline   \n",
       "1000  6 DOHC, variable valve control, regular unlead...        6.0  Gasoline   \n",
       "1001  8 gasoline direct injection, variable valve co...        8.0  Gasoline   \n",
       "\n",
       "      mileage                         transmission                  trim  \\\n",
       "0        10.0                    8-Speed Automatic             Series II   \n",
       "1         1.0                    8-Speed Automatic                Laredo   \n",
       "2         0.0                            Automatic                Denali   \n",
       "3        32.0                    8-Speed Automatic               Pursuit   \n",
       "4        10.0                    6-Speed Automatic               Laramie   \n",
       "...       ...                                  ...                   ...   \n",
       "997      10.0                    9-Speed Automatic         Standard Roof   \n",
       "998       0.0  6-Spd Aisin F21-250 PHEV Auto Trans  Hornet R/T Plus Eawd   \n",
       "999      20.0                    8-Speed Automatic                  Base   \n",
       "1000      6.0                            Automatic    SV Intelligent AWD   \n",
       "1001     31.0                            Automatic                    WT   \n",
       "\n",
       "              body  doors           exterior_color    interior_color  \\\n",
       "0              SUV    4.0                    White      Global Black   \n",
       "1              SUV    4.0                 Metallic      Global Black   \n",
       "2              SUV    4.0             Summit White  Teak/Light Shale   \n",
       "3              SUV    4.0  White Knuckle Clearcoat             Black   \n",
       "4     Pickup Truck    4.0                   Silver             Black   \n",
       "...            ...    ...                      ...               ...   \n",
       "997      Cargo Van    3.0             Arctic White             Black   \n",
       "998            SUV    4.0            Acapulco Gold             Black   \n",
       "999            SUV    4.0            Diamond Black             Black   \n",
       "1000           SUV    4.0      Pearl White Tricoat          Graphite   \n",
       "1001  Pickup Truck    4.0         Wheatland Yellow         Jet Black   \n",
       "\n",
       "            drivetrain  \n",
       "0     Four-wheel Drive  \n",
       "1     Four-wheel Drive  \n",
       "2     Four-wheel Drive  \n",
       "3      All-wheel Drive  \n",
       "4     Four-wheel Drive  \n",
       "...                ...  \n",
       "997   Rear-wheel Drive  \n",
       "998    All-wheel Drive  \n",
       "999   Four-wheel Drive  \n",
       "1000   All-wheel Drive  \n",
       "1001  Rear-wheel Drive  \n",
       "\n",
       "[1002 rows x 18 columns]"
      ]
     },
     "execution_count": 3,
     "metadata": {},
     "output_type": "execute_result"
    }
   ],
   "source": [
    "df = pd.read_csv(\"vehicles_dataset.csv\")\n",
    "#df.dropna(inplace=True)\n",
    "#df = df[df[\"fuel\"] == \"Electric\"]\n",
    "df"
   ]
  },
  {
   "cell_type": "code",
   "execution_count": 4,
   "id": "11280d30",
   "metadata": {
    "scrolled": true
   },
   "outputs": [
    {
     "name": "stdout",
     "output_type": "stream",
     "text": [
      "{'VOLVO': 5.0, 'GENESIS': 5.0, 'TESLA': 5.0, 'SAAB': 5.0, 'POLESTAR': 5.0, 'LUCID': 5.0, 'SUBARU': 4.915094339622642, 'BMW': 4.912280701754386, 'BUICK': 4.91044776119403, 'ACURA': 4.888888888888889, 'AUDI': 4.875, 'HONDA': 4.8625, 'MAZDA': 4.777777777777778, 'VOLKSWAGEN': 4.772413793103448, 'MERCEDES-BENZ': 4.752941176470588, 'INFINITI': 4.7439024390243905, 'LINCOLN': 4.743243243243243, 'LEXUS': 4.730769230769231, 'HYUNDAI': 4.705607476635514, 'CADILLAC': 4.664516129032258, 'KIA': 4.642156862745098, 'CHRYSLER': 4.578947368421052, 'TOYOTA': 4.5631929046563195, 'CHEVROLET': 4.477707006369426, 'DODGE': 4.428571428571429, 'NISSAN': 4.408560311284047, 'FORD': 4.398550724637682, 'GMC': 4.275964391691395, 'MITSUBISHI': 4.221052631578948, 'JEEP': 4.168141592920354, 'RAM': 4.007936507936508, 'CODA': 4.0, 'SMART': 4.0, 'SUZUKI': 4.0, 'VINFAST': 4.0, 'MINI': 4.0, 'FIAT': 3.7142857142857144, 'MERCURY': 3.4285714285714284}\n"
     ]
    },
    {
     "name": "stderr",
     "output_type": "stream",
     "text": [
      "C:\\Users\\achyu\\AppData\\Local\\Temp\\ipykernel_20036\\1921269587.py:1: DtypeWarning: Columns (22,36,39,42,43,52,55,58,61,72,73,75,115,123,126,127) have mixed types. Specify dtype option on import or set low_memory=False.\n",
      "  df2 = pd.read_csv('Safercar_data.csv')\n"
     ]
    }
   ],
   "source": [
    "df2 = pd.read_csv('Safercar_data.csv')\n",
    "\n",
    "# Convert to numeric (in case of 'Not Rated' or strings)\n",
    "df2['OVERALL_STARS'] = pd.to_numeric(df2['OVERALL_STARS'], errors='coerce')\n",
    "\n",
    "# Drop rows with missing or invalid ratings\n",
    "df2 = df2.dropna(subset=['OVERALL_STARS'])\n",
    "\n",
    "# Group by make and calculate the average\n",
    "average_ratings = df2.groupby('MAKE')['OVERALL_STARS'].mean().sort_values(ascending=False).to_dict()\n",
    "\n",
    "\n",
    "print(average_ratings)\n"
   ]
  },
  {
   "cell_type": "code",
   "execution_count": 5,
   "id": "70e36e69",
   "metadata": {},
   "outputs": [
    {
     "name": "stdout",
     "output_type": "stream",
     "text": [
      "Enter make: Toyota\n",
      "Enter model: Corolla\n",
      "Enter model year: 2024\n"
     ]
    },
    {
     "data": {
      "text/html": [
       "<div>\n",
       "<style scoped>\n",
       "    .dataframe tbody tr th:only-of-type {\n",
       "        vertical-align: middle;\n",
       "    }\n",
       "\n",
       "    .dataframe tbody tr th {\n",
       "        vertical-align: top;\n",
       "    }\n",
       "\n",
       "    .dataframe thead th {\n",
       "        text-align: right;\n",
       "    }\n",
       "</style>\n",
       "<table border=\"1\" class=\"dataframe\">\n",
       "  <thead>\n",
       "    <tr style=\"text-align: right;\">\n",
       "      <th></th>\n",
       "      <th>MAKE</th>\n",
       "      <th>MODEL</th>\n",
       "      <th>MODEL_YR</th>\n",
       "      <th>OVERALL_STARS</th>\n",
       "    </tr>\n",
       "  </thead>\n",
       "  <tbody>\n",
       "    <tr>\n",
       "      <th>1491</th>\n",
       "      <td>TOYOTA</td>\n",
       "      <td>COROLLA</td>\n",
       "      <td>2024</td>\n",
       "      <td>5.0</td>\n",
       "    </tr>\n",
       "    <tr>\n",
       "      <th>1495</th>\n",
       "      <td>TOYOTA</td>\n",
       "      <td>COROLLA HATCHBACK</td>\n",
       "      <td>2024</td>\n",
       "      <td>5.0</td>\n",
       "    </tr>\n",
       "    <tr>\n",
       "      <th>1496</th>\n",
       "      <td>TOYOTA</td>\n",
       "      <td>COROLLA HYBRID</td>\n",
       "      <td>2024</td>\n",
       "      <td>5.0</td>\n",
       "    </tr>\n",
       "    <tr>\n",
       "      <th>1497</th>\n",
       "      <td>TOYOTA</td>\n",
       "      <td>COROLLA HYBRID</td>\n",
       "      <td>2024</td>\n",
       "      <td>5.0</td>\n",
       "    </tr>\n",
       "  </tbody>\n",
       "</table>\n",
       "</div>"
      ],
      "text/plain": [
       "        MAKE              MODEL  MODEL_YR  OVERALL_STARS\n",
       "1491  TOYOTA            COROLLA      2024            5.0\n",
       "1495  TOYOTA  COROLLA HATCHBACK      2024            5.0\n",
       "1496  TOYOTA     COROLLA HYBRID      2024            5.0\n",
       "1497  TOYOTA     COROLLA HYBRID      2024            5.0"
      ]
     },
     "metadata": {},
     "output_type": "display_data"
    },
    {
     "data": {
      "text/html": [
       "<a href=https://cars.usnews.com/cars-trucks/toyota/corolla/2024 target=\"_blank\">2024 Toyota Corolla</a>"
      ],
      "text/plain": [
       "<IPython.core.display.HTML object>"
      ]
     },
     "metadata": {},
     "output_type": "display_data"
    }
   ],
   "source": [
    "import pandas as pd\n",
    "import requests\n",
    "from IPython.display import HTML\n",
    "\n",
    "# Take input and filter\n",
    "make = input(\"Enter make: \").strip().lower()\n",
    "model = input(\"Enter model: \").strip().lower()\n",
    "yr = input(\"Enter model year: \").strip().lower()\n",
    "\n",
    "matches = df2[(df2['MODEL'].str.lower().str.contains(model, na=False)) \n",
    "              & (df2['MODEL_YR'] == int(yr))][['MAKE', 'MODEL', 'MODEL_YR', 'OVERALL_STARS']]\n",
    "if matches.shape[0] > 0:\n",
    "    display(matches)\n",
    "else:\n",
    "    print(\"Requested car not found\")\n",
    "\n",
    "display(HTML(f'<a href=https://cars.usnews.com/cars-trucks/{make}/{model}/{yr} target=\"_blank\">{yr} {make.capitalize()} {model.capitalize()}</a>'))"
   ]
  },
  {
   "cell_type": "code",
   "execution_count": 6,
   "id": "d9e52b97",
   "metadata": {},
   "outputs": [
    {
     "name": "stdout",
     "output_type": "stream",
     "text": [
      "ioniq-5\n",
      "c40-recharge\n",
      "electrified-gv70\n",
      "cr-v\n",
      "cx-30\n",
      "gmc-terrain-sle\n"
     ]
    }
   ],
   "source": [
    "import re\n",
    "\n",
    "def clean_model_name(model: str) -> str:\n",
    "    # Define forbidden words\n",
    "    forbidden_words = {\n",
    "        \"se\", \"le\", \"xe\", \"xle\", \"ls\", \"lxs\", \"ex\", \"limited\", \"ultimate\", \"advanced\", \"premium\", \"standard\", \"range\", \"touring\",\n",
    "        \"sport\", \"luxury\", \"pure\", \"electric\", \"twin\", \"performance\", \"plus\", \"base\", \"select\", \"light\", \"long\", \n",
    "        \"gt\", \"a-spec\", \"edition\", \"platinum\", \"sel\", \"2lt\", \"lt\", \"sxt\", \"sv\", \"s\", \"14t\", \"l\", \"latitude\", \"preferred\"\n",
    "    }\n",
    "    \n",
    "    # Normalize and split\n",
    "    words = model.lower().split()\n",
    "    \n",
    "    # Filter out forbidden words and numeric tokens (integers or decimals)\n",
    "    filtered_words = [\n",
    "        w for w in words\n",
    "        if w not in forbidden_words and not re.match(r\"\\d+(\\.\\d+)\", w)\n",
    "    ]\n",
    "        \n",
    "    # Join back into slug\n",
    "    return \"-\".join(filtered_words)\n",
    "\n",
    "# Test cases\n",
    "print(clean_model_name(\"Ioniq 5 SE Standard Range\"))                   # → \"ioniq-5\"\n",
    "print(clean_model_name(\"C40 Recharge Pure Electric Twin Ultimate\"))   # → \"c40-recharge\"\n",
    "print(clean_model_name(\"Electrified GV70 Advanced\"))                  # → \"electrified-gv70\"\n",
    "print(clean_model_name(\"CR-V 1.5T Touring\"))                           # → \"cr-v\"\n",
    "print(clean_model_name(\"CX-30 2.5 S Premium\"))     \n",
    "print(clean_model_name(\"GMC Terrain SLE\"))"
   ]
  },
  {
   "cell_type": "code",
   "execution_count": 7,
   "id": "d59e18d1",
   "metadata": {},
   "outputs": [
    {
     "name": "stdout",
     "output_type": "stream",
     "text": [
      "Compass Latitude\n"
     ]
    },
    {
     "data": {
      "text/html": [
       "<a href=https://cars.usnews.com/cars-trucks/jeep/compass target=\"_blank\">Jeep Compass Latitude</a>"
      ],
      "text/plain": [
       "<IPython.core.display.HTML object>"
      ]
     },
     "metadata": {},
     "output_type": "display_data"
    },
    {
     "name": "stdout",
     "output_type": "stream",
     "text": [
      "Taos 1.5T SE\n"
     ]
    },
    {
     "data": {
      "text/html": [
       "<a href=https://cars.usnews.com/cars-trucks/volkswagen/taos target=\"_blank\">Volkswagen Taos 1.5T SE</a>"
      ],
      "text/plain": [
       "<IPython.core.display.HTML object>"
      ]
     },
     "metadata": {},
     "output_type": "display_data"
    },
    {
     "name": "stdout",
     "output_type": "stream",
     "text": [
      "Tucson SEL\n"
     ]
    },
    {
     "data": {
      "text/html": [
       "<a href=https://cars.usnews.com/cars-trucks/hyundai/tucson target=\"_blank\">Hyundai Tucson SEL</a>"
      ],
      "text/plain": [
       "<IPython.core.display.HTML object>"
      ]
     },
     "metadata": {},
     "output_type": "display_data"
    },
    {
     "name": "stdout",
     "output_type": "stream",
     "text": [
      "Murano SV\n"
     ]
    },
    {
     "data": {
      "text/html": [
       "<a href=https://cars.usnews.com/cars-trucks/nissan/murano target=\"_blank\">Nissan Murano SV</a>"
      ],
      "text/plain": [
       "<IPython.core.display.HTML object>"
      ]
     },
     "metadata": {},
     "output_type": "display_data"
    },
    {
     "name": "stdout",
     "output_type": "stream",
     "text": [
      "Seltos EX\n"
     ]
    },
    {
     "data": {
      "text/html": [
       "<a href=https://cars.usnews.com/cars-trucks/kia/seltos target=\"_blank\">Kia Seltos EX</a>"
      ],
      "text/plain": [
       "<IPython.core.display.HTML object>"
      ]
     },
     "metadata": {},
     "output_type": "display_data"
    },
    {
     "name": "stdout",
     "output_type": "stream",
     "text": [
      "Terrain SLE\n"
     ]
    },
    {
     "data": {
      "text/html": [
       "<a href=https://cars.usnews.com/cars-trucks/gmc/terrain-sle target=\"_blank\">GMC Terrain SLE</a>"
      ],
      "text/plain": [
       "<IPython.core.display.HTML object>"
      ]
     },
     "metadata": {},
     "output_type": "display_data"
    },
    {
     "name": "stdout",
     "output_type": "stream",
     "text": [
      "Hornet GT\n"
     ]
    },
    {
     "data": {
      "text/html": [
       "<a href=https://cars.usnews.com/cars-trucks/dodge/hornet target=\"_blank\">Dodge Hornet GT</a>"
      ],
      "text/plain": [
       "<IPython.core.display.HTML object>"
      ]
     },
     "metadata": {},
     "output_type": "display_data"
    },
    {
     "name": "stdout",
     "output_type": "stream",
     "text": [
      "Envista Preferred\n"
     ]
    },
    {
     "data": {
      "text/html": [
       "<a href=https://cars.usnews.com/cars-trucks/buick/envista target=\"_blank\">Buick Envista Preferred</a>"
      ],
      "text/plain": [
       "<IPython.core.display.HTML object>"
      ]
     },
     "metadata": {},
     "output_type": "display_data"
    },
    {
     "name": "stdout",
     "output_type": "stream",
     "text": [
      "Compass Latitude\n"
     ]
    },
    {
     "data": {
      "text/html": [
       "<a href=https://cars.usnews.com/cars-trucks/jeep/compass target=\"_blank\">Jeep Compass Latitude</a>"
      ],
      "text/plain": [
       "<IPython.core.display.HTML object>"
      ]
     },
     "metadata": {},
     "output_type": "display_data"
    },
    {
     "name": "stdout",
     "output_type": "stream",
     "text": [
      "Equinox LS\n"
     ]
    },
    {
     "data": {
      "text/html": [
       "<a href=https://cars.usnews.com/cars-trucks/chevrolet/equinox target=\"_blank\">Chevrolet Equinox LS</a>"
      ],
      "text/plain": [
       "<IPython.core.display.HTML object>"
      ]
     },
     "metadata": {},
     "output_type": "display_data"
    },
    {
     "name": "stdout",
     "output_type": "stream",
     "text": [
      "Escape Active\n"
     ]
    },
    {
     "data": {
      "text/html": [
       "<a href=https://cars.usnews.com/cars-trucks/ford/escape-active target=\"_blank\">Ford Escape Active</a>"
      ],
      "text/plain": [
       "<IPython.core.display.HTML object>"
      ]
     },
     "metadata": {},
     "output_type": "display_data"
    },
    {
     "name": "stdout",
     "output_type": "stream",
     "text": [
      "HR-V LX\n"
     ]
    },
    {
     "data": {
      "text/html": [
       "<a href=https://cars.usnews.com/cars-trucks/honda/hr-v-lx target=\"_blank\">Honda HR-V LX</a>"
      ],
      "text/plain": [
       "<IPython.core.display.HTML object>"
      ]
     },
     "metadata": {},
     "output_type": "display_data"
    },
    {
     "name": "stdout",
     "output_type": "stream",
     "text": [
      "Envision Preferred\n"
     ]
    },
    {
     "data": {
      "text/html": [
       "<a href=https://cars.usnews.com/cars-trucks/buick/envision target=\"_blank\">Buick Envision Preferred</a>"
      ],
      "text/plain": [
       "<IPython.core.display.HTML object>"
      ]
     },
     "metadata": {},
     "output_type": "display_data"
    },
    {
     "name": "stdout",
     "output_type": "stream",
     "text": [
      "Corolla Cross LE\n"
     ]
    },
    {
     "data": {
      "text/html": [
       "<a href=https://cars.usnews.com/cars-trucks/toyota/corolla-cross target=\"_blank\">Toyota Corolla Cross LE</a>"
      ],
      "text/plain": [
       "<IPython.core.display.HTML object>"
      ]
     },
     "metadata": {},
     "output_type": "display_data"
    },
    {
     "name": "stdout",
     "output_type": "stream",
     "text": [
      "Outback Premium\n"
     ]
    },
    {
     "data": {
      "text/html": [
       "<a href=https://cars.usnews.com/cars-trucks/subaru/outback target=\"_blank\">Subaru Outback Premium</a>"
      ],
      "text/plain": [
       "<IPython.core.display.HTML object>"
      ]
     },
     "metadata": {},
     "output_type": "display_data"
    },
    {
     "name": "stdout",
     "output_type": "stream",
     "text": [
      "Trax ACTIV\n"
     ]
    },
    {
     "data": {
      "text/html": [
       "<a href=https://cars.usnews.com/cars-trucks/chevrolet/trax-activ target=\"_blank\">Chevrolet Trax ACTIV</a>"
      ],
      "text/plain": [
       "<IPython.core.display.HTML object>"
      ]
     },
     "metadata": {},
     "output_type": "display_data"
    },
    {
     "name": "stdout",
     "output_type": "stream",
     "text": [
      "CR-V EX-L\n"
     ]
    },
    {
     "data": {
      "text/html": [
       "<a href=https://cars.usnews.com/cars-trucks/honda/cr-v-ex-l target=\"_blank\">Honda CR-V EX-L</a>"
      ],
      "text/plain": [
       "<IPython.core.display.HTML object>"
      ]
     },
     "metadata": {},
     "output_type": "display_data"
    }
   ],
   "source": [
    "user_input = {\n",
    "    \"min_price\": 10000,\n",
    "    \"max_price\": 40000,\n",
    "    \"fuel\": \"Gasoline\",\n",
    "    \"body\": \"SUV\",\n",
    "    \"min_rating\": 1.0\n",
    "}\n",
    "\n",
    "def filter_cars(df, user_input):\n",
    "    df = df[\n",
    "        (df[\"price\"] >= user_input[\"min_price\"]) &\n",
    "        (df[\"price\"] <= user_input[\"max_price\"]) &\n",
    "        (df[\"fuel\"].str.lower() == user_input[\"fuel\"].lower()) &\n",
    "        (df[\"body\"].str.lower() == user_input[\"body\"].lower())\n",
    "    ]\n",
    "    return df\n",
    "\n",
    "target_df = filter_cars(df, user_input)\n",
    "visited = set()\n",
    "cnt = 0\n",
    "\n",
    "for item in target_df['name']:\n",
    "    parts = item.strip().split()\n",
    "    car = (parts[0], parts[1], \" \".join(parts[2:]))\n",
    "    \n",
    "    if (parts[0], parts[1]) not in visited:\n",
    "        make = car[1]\n",
    "        model = car[2]\n",
    "        print(model)\n",
    "        model_url = clean_model_name(model)\n",
    "        cnt += 1\n",
    "        \n",
    "        \n",
    "        display(HTML(f'<a href=https://cars.usnews.com/cars-trucks/{make.lower()}/{model_url} target=\"_blank\">{make} {model}</a>'))\n",
    "        \n",
    "    visited.add((parts[0], parts[1])) # identify model by first 2 words\n",
    "\n",
    "if cnt == 0:\n",
    "    print(\"Sorry! No vehicles match your requirements\")\n",
    "    "
   ]
  },
  {
   "cell_type": "code",
   "execution_count": null,
   "id": "4022f31c",
   "metadata": {},
   "outputs": [],
   "source": []
  },
  {
   "cell_type": "code",
   "execution_count": null,
   "id": "acb85e46",
   "metadata": {},
   "outputs": [],
   "source": []
  }
 ],
 "metadata": {
  "kernelspec": {
   "display_name": "Python 3 (ipykernel)",
   "language": "python",
   "name": "python3"
  },
  "language_info": {
   "codemirror_mode": {
    "name": "ipython",
    "version": 3
   },
   "file_extension": ".py",
   "mimetype": "text/x-python",
   "name": "python",
   "nbconvert_exporter": "python",
   "pygments_lexer": "ipython3",
   "version": "3.9.13"
  }
 },
 "nbformat": 4,
 "nbformat_minor": 5
}
