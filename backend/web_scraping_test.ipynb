{
 "cells": [
  {
   "cell_type": "code",
   "execution_count": 1,
   "id": "963bc046",
   "metadata": {},
   "outputs": [
    {
     "name": "stdout",
     "output_type": "stream",
     "text": [
      "Requirement already satisfied: requests in c:\\users\\achyu\\machinelearning\\lib\\site-packages (2.28.1)\n",
      "Requirement already satisfied: beautifulsoup4 in c:\\users\\achyu\\machinelearning\\lib\\site-packages (4.11.1)\n",
      "Requirement already satisfied: idna<4,>=2.5 in c:\\users\\achyu\\machinelearning\\lib\\site-packages (from requests) (3.3)\n",
      "Requirement already satisfied: urllib3<1.27,>=1.21.1 in c:\\users\\achyu\\machinelearning\\lib\\site-packages (from requests) (1.26.11)\n",
      "Requirement already satisfied: charset-normalizer<3,>=2 in c:\\users\\achyu\\machinelearning\\lib\\site-packages (from requests) (2.0.4)\n",
      "Requirement already satisfied: certifi>=2017.4.17 in c:\\users\\achyu\\machinelearning\\lib\\site-packages (from requests) (2022.9.14)\n",
      "Requirement already satisfied: soupsieve>1.2 in c:\\users\\achyu\\machinelearning\\lib\\site-packages (from beautifulsoup4) (2.3.1)\n",
      "Note: you may need to restart the kernel to use updated packages.\n"
     ]
    }
   ],
   "source": [
    "pip install requests beautifulsoup4"
   ]
  },
  {
   "cell_type": "code",
   "execution_count": null,
   "id": "a1ce248f",
   "metadata": {},
   "outputs": [],
   "source": [
    "import requests\n",
    "from bs4 import BeautifulSoup\n",
    "import pandas as pd\n",
    "\n",
    "# Example list of vehicles (you can generate this dynamically)\n",
    "cars = [\n",
    "    {\"make\": \"honda\", \"model\": \"cr-v\", \"year\": \"2023\"},\n",
    "    {\"make\": \"toyota\", \"model\": \"rav4\", \"year\": \"2023\"},\n",
    "    {\"make\": \"mazda\", \"model\": \"cx-5\", \"year\": \"2023\"}\n",
    "]\n",
    "\n",
    "results = []\n",
    "\n",
    "for car in cars:\n",
    "    url = f\"https://cars.usnews.com/cars-trucks/{car['make']}/{car['model']}/{car['year']}\"\n",
    "    print(f\"Fetching {url}\")\n",
    "    \n",
    "    response = requests.get(url, headers={\"User-Agent\": \"Mozilla/5.0\"})\n",
    "    if response.status_code != 200:\n",
    "        print(f\"Failed to fetch {url}\")\n",
    "        continue\n",
    "\n",
    "    soup = BeautifulSoup(response.text, \"html.parser\")\n",
    "    \n",
    "    # Locate the overall rating element\n",
    "    rating_div = soup.find(\"p\", class_=\"Heading-sc-1w5xk2o-0 helper__CustomHeading-sc-1n3xgh8-4 gVcwWr iqCIdl\")\n",
    "    if rating_div:\n",
    "        rating_text = rating_div.get_text(strip=True)\n",
    "        rating = float(rating_text.split()[0])  # e.g. \"8.7 / 10\" → 8.7\n",
    "    else:\n",
    "        rating = None\n",
    "    \n",
    "    results.append({\n",
    "        \"year\": car[\"year\"],\n",
    "        \"make\": car[\"make\"].capitalize(),\n",
    "        \"model\": car[\"model\"].capitalize(),\n",
    "        \"rating\": rating\n",
    "    })\n",
    "\n",
    "# Convert to DataFrame and sort\n",
    "df = pd.DataFrame(results)\n",
    "df = df.dropna().sort_values(by=\"rating\", ascending=False)\n",
    "print(df)"
   ]
  },
  {
   "cell_type": "code",
   "execution_count": null,
   "id": "da0498bb",
   "metadata": {},
   "outputs": [],
   "source": []
  }
 ],
 "metadata": {
  "kernelspec": {
   "display_name": "Python 3 (ipykernel)",
   "language": "python",
   "name": "python3"
  },
  "language_info": {
   "codemirror_mode": {
    "name": "ipython",
    "version": 3
   },
   "file_extension": ".py",
   "mimetype": "text/x-python",
   "name": "python",
   "nbconvert_exporter": "python",
   "pygments_lexer": "ipython3",
   "version": "3.9.13"
  }
 },
 "nbformat": 4,
 "nbformat_minor": 5
}
